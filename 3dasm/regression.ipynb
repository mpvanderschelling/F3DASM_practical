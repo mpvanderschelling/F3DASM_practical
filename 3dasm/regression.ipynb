{
 "cells": [
  {
   "cell_type": "code",
   "execution_count": 1,
   "metadata": {},
   "outputs": [
    {
     "name": "stderr",
     "output_type": "stream",
     "text": [
      "2022-12-07 16:49:41.016386: I tensorflow/core/platform/cpu_feature_guard.cc:193] This TensorFlow binary is optimized with oneAPI Deep Neural Network Library (oneDNN) to use the following CPU instructions in performance-critical operations:  AVX2 AVX512F AVX512_VNNI FMA\n",
      "To enable them in other operations, rebuild TensorFlow with the appropriate compiler flags.\n",
      "2022-12-07 16:49:41.156607: I tensorflow/core/util/port.cc:104] oneDNN custom operations are on. You may see slightly different numerical results due to floating-point round-off errors from different computation orders. To turn them off, set the environment variable `TF_ENABLE_ONEDNN_OPTS=0`.\n",
      "2022-12-07 16:49:41.804216: W tensorflow/compiler/xla/stream_executor/platform/default/dso_loader.cc:64] Could not load dynamic library 'libnvinfer.so.7'; dlerror: libnvinfer.so.7: cannot open shared object file: No such file or directory; LD_LIBRARY_PATH: /usr/local/cuda-11.1/lib64\n",
      "2022-12-07 16:49:41.804278: W tensorflow/compiler/xla/stream_executor/platform/default/dso_loader.cc:64] Could not load dynamic library 'libnvinfer_plugin.so.7'; dlerror: libnvinfer_plugin.so.7: cannot open shared object file: No such file or directory; LD_LIBRARY_PATH: /usr/local/cuda-11.1/lib64\n",
      "2022-12-07 16:49:41.804283: W tensorflow/compiler/tf2tensorrt/utils/py_utils.cc:38] TF-TRT Warning: Cannot dlopen some TensorRT libraries. If you would like to use Nvidia GPU with TensorRT, please make sure the missing libraries mentioned above are installed properly.\n"
     ]
    }
   ],
   "source": [
    "# If f3dasm is not found, install the correct version from pip\n",
    "try:\n",
    "    import f3dasm\n",
    "except ModuleNotFoundError:\n",
    "    %pip install f3dasm==0.2.91 --quiet\n",
    "    import f3dasm"
   ]
  },
  {
   "cell_type": "code",
   "execution_count": 2,
   "metadata": {},
   "outputs": [
    {
     "name": "stdout",
     "output_type": "stream",
     "text": [
      "\n",
      "F3DASM:\n",
      "       f3dasm: 0.2.91\n",
      "\n",
      "System:\n",
      "    python: 3.7.12 | packaged by conda-forge | (default, Oct 26 2021, 06:08:21)  [GCC 9.4.0]\n",
      "executable: /home/martin/miniconda3/envs/f3dasm_env2/bin/python\n",
      "   machine: Linux-5.14.0-1054-oem-x86_64-with-debian-bullseye-sid\n",
      "\n",
      "Python dependencies:\n",
      "        numpy: 1.21.6\n",
      "        scipy: 1.7.3\n",
      "       pandas: 1.3.5\n",
      "   matplotlib: 3.5.3\n",
      "        SALib: 1.4.5\n",
      "   hypothesis: 6.58.0\n",
      "       GPyOpt: 1.2.6\n",
      "          GPy: 1.10.0\n",
      "     autograd: No __version__ attribute!\n",
      " numdifftools: 0.9.41\n",
      "   tensorflow: 2.11.0\n",
      "       pathos: 0.3.0\n",
      "       pytest: 7.2.0\n",
      "        pygmo: 2.16.1\n"
     ]
    }
   ],
   "source": [
    "# Check if you got the right version, otherwise uninstall this version!\n",
    "\n",
    "import os\n",
    "\n",
    "if f3dasm.__version__ != '0.2.91':\n",
    "    %pip uninstall -y f3dasm\n",
    "    os._exit(00)\n",
    "    # The kernel will be restarted and you need to run the notebook again!\n",
    "    \n",
    "f3dasm.show_versions()"
   ]
  },
  {
   "cell_type": "markdown",
   "metadata": {},
   "source": [
    "Import third-party libraries:"
   ]
  },
  {
   "cell_type": "code",
   "execution_count": 3,
   "metadata": {},
   "outputs": [],
   "source": [
    "from sklearn.linear_model import LinearRegression\n",
    "from sklearn.gaussian_process import GaussianProcessRegressor\n",
    "from sklearn.neural_network import MLPRegressor\n",
    "import numpy as np\n",
    "import matplotlib.pyplot as plt"
   ]
  },
  {
   "cell_type": "markdown",
   "metadata": {},
   "source": [
    "Define the seed of the random number generator:"
   ]
  },
  {
   "cell_type": "code",
   "execution_count": 4,
   "metadata": {},
   "outputs": [],
   "source": [
    "seed = 54"
   ]
  },
  {
   "cell_type": "markdown",
   "metadata": {},
   "source": [
    "Define the design space with `make_nd_continuous_design()`:"
   ]
  },
  {
   "cell_type": "code",
   "execution_count": 5,
   "metadata": {},
   "outputs": [],
   "source": [
    "dimensionality = 1\n",
    "design = f3dasm.make_nd_continuous_design(bounds=np.tile([0.,1.], (dimensionality, 1)),dimensionality=dimensionality)"
   ]
  },
  {
   "cell_type": "markdown",
   "metadata": {},
   "source": [
    "Create a sampler:"
   ]
  },
  {
   "cell_type": "code",
   "execution_count": 6,
   "metadata": {},
   "outputs": [
    {
     "name": "stdout",
     "output_type": "stream",
     "text": [
      "       input output\n",
      "          x0      y\n",
      "0   0.374406    NaN\n",
      "1   0.321956    NaN\n",
      "2   0.751770    NaN\n",
      "3   0.766050    NaN\n",
      "4   0.957157    NaN\n",
      "..       ...    ...\n",
      "95  0.576307    NaN\n",
      "96  0.159263    NaN\n",
      "97  0.254735    NaN\n",
      "98  0.933930    NaN\n",
      "99  0.456217    NaN\n",
      "\n",
      "[100 rows x 2 columns]\n"
     ]
    }
   ],
   "source": [
    "N = 100 # Number of samples\n",
    "\n",
    "sampler = f3dasm.sampling.LatinHypercube(design=design, seed=seed)\n",
    "samples = sampler.get_samples(numsamples=N)\n",
    "samples.show()"
   ]
  },
  {
   "cell_type": "markdown",
   "metadata": {},
   "source": [
    "Create an analytical benchmark function and evaluate the samples:"
   ]
  },
  {
   "cell_type": "code",
   "execution_count": 7,
   "metadata": {},
   "outputs": [],
   "source": [
    "f = f3dasm.functions.Levy(dimensionality=dimensionality, seed=seed)\n",
    "samples.add_output(f(samples.get_input_data().to_numpy()))"
   ]
  },
  {
   "cell_type": "markdown",
   "metadata": {},
   "source": [
    "Create regressor from the `scikit-learn` library and fit it with the `samples`:"
   ]
  },
  {
   "cell_type": "code",
   "execution_count": 8,
   "metadata": {},
   "outputs": [],
   "source": [
    "reg = GaussianProcessRegressor()\n"
   ]
  },
  {
   "cell_type": "markdown",
   "metadata": {},
   "source": [
    "`fit()` the regressor. The regressor requires the `X` and `y` values as `numpy`-arrays"
   ]
  },
  {
   "cell_type": "code",
   "execution_count": 9,
   "metadata": {},
   "outputs": [
    {
     "data": {
      "text/plain": [
       "GaussianProcessRegressor()"
      ]
     },
     "execution_count": 9,
     "metadata": {},
     "output_type": "execute_result"
    }
   ],
   "source": [
    "reg.fit(*samples.to_numpy())"
   ]
  },
  {
   "cell_type": "code",
   "execution_count": 10,
   "metadata": {},
   "outputs": [],
   "source": [
    "X_pred = np.linspace(0.,1.,100).reshape(-1,1)\n",
    "y_pred = reg.predict(X_pred)"
   ]
  },
  {
   "cell_type": "code",
   "execution_count": 15,
   "metadata": {},
   "outputs": [
    {
     "data": {
      "text/plain": [
       "<matplotlib.legend.Legend at 0x7f93658846d0>"
      ]
     },
     "execution_count": 15,
     "metadata": {},
     "output_type": "execute_result"
    },
    {
     "data": {
      "image/png": "[encoded data removed]",
      "text/plain": [
       "<Figure size 640x480 with 1 Axes>"
      ]
     },
     "metadata": {},
     "output_type": "display_data"
    }
   ],
   "source": [
    "fig, ax = plt.figure(), plt.axes()\n",
    "\n",
    "ax.plot(X_pred, y_pred, label='Regressor prediction', c='green')\n",
    "ax.scatter(*samples.to_numpy(), label='samples', color='red', s=10)\n",
    "ax.plot(np.linspace(0.,1.,100).reshape(-1,1), f(np.linspace(0.,1.,100).reshape(-1,1)), label='ground truth')\n",
    "ax.set_xlabel('$x$')\n",
    "ax.set_ylabel('$f(x)$')\n",
    "fig.legend()"
   ]
  },
  {
   "cell_type": "code",
   "execution_count": null,
   "metadata": {},
   "outputs": [],
   "source": []
  }
 ],
 "metadata": {
  "kernelspec": {
   "display_name": "Python 3.7.12 ('f3dasm_env2')",
   "language": "python",
   "name": "python3"
  },
  "language_info": {
   "codemirror_mode": {
    "name": "ipython",
    "version": 3
   },
   "file_extension": ".py",
   "mimetype": "text/x-python",
   "name": "python",
   "nbconvert_exporter": "python",
   "pygments_lexer": "ipython3",
   "version": "3.7.12"
  },
  "orig_nbformat": 4,
  "vscode": {
   "interpreter": {
    "hash": "f45089fc4d6167869e7370c5b47568ce8eb74326038b740d9fc0c36d2e164509"
   }
  }
 },
 "nbformat": 4,
 "nbformat_minor": 2
}
